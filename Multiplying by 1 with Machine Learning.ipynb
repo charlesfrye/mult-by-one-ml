{
 "cells": [
  {
   "cell_type": "code",
   "execution_count": null,
   "metadata": {
    "slideshow": {
     "slide_type": "skip"
    }
   },
   "outputs": [],
   "source": [
    "%matplotlib inline\n",
    "# %matplotlib notebook\n",
    "# uncomment for interactive plots\n",
    "\n",
    "from functools import partial\n",
    "import random\n",
    "\n",
    "import jax\n",
    "import jax.numpy as np\n",
    "from jax import grad, jit, vmap, jacfwd\n",
    "import jax.random\n",
    "\n",
    "from matplotlib import cm\n",
    "from matplotlib.patches import Rectangle\n",
    "import matplotlib.pyplot as plt\n",
    "from mpl_toolkits.mplot3d import Axes3D  # noqa: F401 unused import\n",
    "import mpl_toolkits.mplot3d.art3d as art3d\n",
    "from mpl_toolkits.mplot3d.art3d import Line3DCollection\n",
    "\n",
    "import torchvision\n",
    "\n",
    "plt.rc('axes', labelsize=\"x-large\")"
   ]
  },
  {
   "cell_type": "code",
   "execution_count": null,
   "metadata": {
    "slideshow": {
     "slide_type": "skip"
    }
   },
   "outputs": [],
   "source": [
    "lim = 2\n",
    "\n",
    "theta_xs = np.linspace(-lim, lim, 51)\n",
    "thetas = np.array(np.meshgrid(theta_xs, theta_xs))\n",
    "thetas = np.moveaxis(thetas, 0, -1)\n",
    "\n",
    "precise_theta_xs = np.linspace(-lim, lim, 201)\n",
    "precise_thetas = np.array(np.meshgrid(precise_theta_xs, precise_theta_xs))\n",
    "precise_thetas = np.moveaxis(precise_thetas, 0, -1)"
   ]
  },
  {
   "cell_type": "code",
   "execution_count": null,
   "metadata": {
    "slideshow": {
     "slide_type": "skip"
    }
   },
   "outputs": [],
   "source": [
    "def plot_surface(surf_thetas, surf_vals,\n",
    "                 cmap=cm.coolwarm, lw=0., antialiased=True, alpha=0.5,\n",
    "                 lim=lim, surf_lims=[0, 10], zlabel='', ax=None):\n",
    "    \n",
    "    surf_vals = np.squeeze(surf_vals)\n",
    "    \n",
    "    if ax is None:\n",
    "        fig = plt.figure(figsize=(8, 8))\n",
    "        ax = fig.gca(projection='3d')\n",
    "        \n",
    "    ax.plot_surface(surf_thetas[:, :, 0], surf_thetas[:, :, 1], surf_vals,\n",
    "                    cmap=cm.coolwarm, lw=0., antialiased=True, alpha=0.5)\n",
    "    \n",
    "    ax.set_zlabel(zlabel, rotation=90);\n",
    "    ax.set_xlim([-lim, lim])\n",
    "    ax.set_ylim([-lim, lim]);\n",
    "    ax.set_zlim(surf_lims);\n",
    "    \n",
    "    return ax"
   ]
  },
  {
   "cell_type": "code",
   "execution_count": null,
   "metadata": {
    "slideshow": {
     "slide_type": "skip"
    }
   },
   "outputs": [],
   "source": [
    "def plot_gradient_field(thetas, Ls, gradfield, step=4, ax=None, **quiver_kwargs):\n",
    "    \n",
    "    Ls = np.squeeze(Ls)\n",
    "    if ax is None:\n",
    "        fig = plt.figure(figsize=(8, 8))\n",
    "        ax = fig.gca(projection='3d')\n",
    "    \n",
    "    thetas = thetas[::step, ::step, ...]\n",
    "    Ls = Ls[::step, ::step]\n",
    "    gradfield = gradfield[::step, ::step, ...]\n",
    "    \n",
    "    ax.quiver(thetas[..., 0], thetas[..., 1], Ls,\n",
    "              -1 * gradfield[..., 0], -1 * gradfield[..., 1], 0.1,\n",
    "              normalize=False, color=\"gray\", lw=1, **quiver_kwargs)\n",
    "    \n",
    "    return ax"
   ]
  },
  {
   "cell_type": "code",
   "execution_count": null,
   "metadata": {
    "slideshow": {
     "slide_type": "skip"
    }
   },
   "outputs": [],
   "source": [
    "def plot_critical_regions(thetas, filter_surface, eps=1e-1, ax=None, **scatter_kwargs):\n",
    "    if ax is None:\n",
    "        fig = plt.figure(figsize=(8, 8))\n",
    "        ax = fig.gca(projection='3d')\n",
    "        \n",
    "    low_values = filter_by(thetas, filter_surface < eps)\n",
    "\n",
    "    ax.scatter(*low_values, **scatter_kwargs)\n",
    "    \n",
    "    return ax\n",
    "\n",
    "\n",
    "def filter_by(tensor, matrix):\n",
    "    return np.array([tensor[..., ii][matrix]\n",
    "                     for ii in range(tensor.shape[-1])])"
   ]
  },
  {
   "cell_type": "code",
   "execution_count": null,
   "metadata": {
    "slideshow": {
     "slide_type": "skip"
    }
   },
   "outputs": [],
   "source": [
    "def prep_for_plot(batched_gds, loss):\n",
    "    ndim = batched_gds.ndim\n",
    "    if ndim == 4:\n",
    "        gd_xs, gd_ys, gd_zs = to_trajs(batched_gds, L)\n",
    "        gd_3d_trajs = to_3d_trajs(gd_xs, gd_ys, gd_zs)\n",
    "    elif ndim == 3:\n",
    "        gd_3d_trajs = to_3d_trajs(batched_gds[..., 0], batched_gds[..., 1], L(batched_gds, [1.]))\n",
    "    else:\n",
    "        raise ValueError(f\"batched_gds must have 3<=ndim<=4, was {ndim}\")\n",
    "        \n",
    "    return gd_3d_trajs\n",
    "\n",
    "\n",
    "def to_matplotlib_shape_gds(gds, skip=2):\n",
    "    return np.reshape(gds[:, ::skip, ::skip], (gds.shape[0], -1), order=\"F\")\n",
    "\n",
    "\n",
    "def to_trajs(simultaneous_gds, L):\n",
    "\n",
    "    losses = L(simultaneous_gds, np.array([1.]))\n",
    "        \n",
    "    gd_xs = to_matplotlib_shape_gds(simultaneous_gds[..., 0])\n",
    "\n",
    "    gd_ys = to_matplotlib_shape_gds(simultaneous_gds[..., 1])\n",
    "\n",
    "    gd_zs = to_matplotlib_shape_gds(losses)\n",
    "    \n",
    "    return gd_xs, gd_ys, gd_zs\n",
    "\n",
    "\n",
    "def to_3d_trajs(gd_xs, gd_ys, gd_zs):\n",
    "    return np.stack([gd_xs.T, gd_ys.T, gd_zs.T], axis=-1)"
   ]
  },
  {
   "cell_type": "code",
   "execution_count": null,
   "metadata": {
    "slideshow": {
     "slide_type": "skip"
    }
   },
   "outputs": [],
   "source": [
    "def plot_batched_gd(gd_trajs, surf_thetas, surf_losses, **lc3d_kwargs):\n",
    "    \n",
    "    fig = plt.figure(figsize=(8, 8))\n",
    "    ax = fig.gca(projection='3d')\n",
    "\n",
    "    lc = Line3DCollection(gd_trajs, **lc3d_kwargs)\n",
    "\n",
    "    plot_surface(surf_thetas, surf_losses,\n",
    "                 cmap=cm.coolwarm, lw=0., antialiased=True, alpha=0.5, ax=ax)\n",
    "\n",
    "    ax.add_collection(lc)\n",
    "    \n",
    "    return ax"
   ]
  },
  {
   "cell_type": "markdown",
   "metadata": {
    "slideshow": {
     "slide_type": "slide"
    }
   },
   "source": [
    "# Neural network optimization is complicated, and harder than it seems."
   ]
  },
  {
   "attachments": {
    "image.png": {
     "image/png": "[encoded data removed]"
    }
   },
   "cell_type": "markdown",
   "metadata": {
    "slideshow": {
     "slide_type": "subslide"
    }
   },
   "source": [
    "![image.png](attachment:image.png)"
   ]
  },
  {
   "cell_type": "markdown",
   "metadata": {
    "slideshow": {
     "slide_type": "-"
    }
   },
   "source": [
    "-- From [_Optimization for Deep Learning_](https://arxiv.org/abs/1912.08957) by Ruouyu Sun"
   ]
  },
  {
   "cell_type": "markdown",
   "metadata": {
    "slideshow": {
     "slide_type": "slide"
    }
   },
   "source": [
    "# Test problems can drive understanding\n",
    "\n",
    "> Basically, I and everyone I know who does math does the exact same thing.\n",
    "Whenever they hear a conjecture, they compare it to two examples:\n",
    "one that's well-behaved and simple and another that's pathological and counter-intuitive.\n",
    "If the conjecture is true on both, then it's probably true.\n",
    "If it's not, you've got yourself a counterexample.\n",
    "\n",
    "-- Paraphrased from a Berkeley Math PhD"
   ]
  },
  {
   "cell_type": "markdown",
   "metadata": {
    "slideshow": {
     "slide_type": "slide"
    }
   },
   "source": [
    "# Memorization tasks and adversarial examples make good pathological test examples."
   ]
  },
  {
   "cell_type": "markdown",
   "metadata": {
    "slideshow": {
     "slide_type": "subslide"
    }
   },
   "source": [
    "## Memorization task: destroy all structure relating inputs to labels."
   ]
  },
  {
   "cell_type": "code",
   "execution_count": null,
   "metadata": {
    "slideshow": {
     "slide_type": "fragment"
    }
   },
   "outputs": [],
   "source": [
    "mnist = torchvision.datasets.MNIST(root=\".\", train=True, download=True)\n",
    "\n",
    "mnist.targets = random.sample(list(mnist.targets), len(mnist.targets))"
   ]
  },
  {
   "cell_type": "markdown",
   "metadata": {},
   "source": [
    "Neural networks can still minimize the training loss (see [Zhang et al., 2016](https://arxiv.org/abs/1611.03530))."
   ]
  },
  {
   "cell_type": "markdown",
   "metadata": {
    "slideshow": {
     "slide_type": "slide"
    }
   },
   "source": [
    "# Today, we'll talk about a well-behaved and simple example I use: multiplying by one. "
   ]
  },
  {
   "cell_type": "markdown",
   "metadata": {
    "slideshow": {
     "slide_type": "subslide"
    }
   },
   "source": [
    "**Definition**. A (fully-connected) _network_ $f$ is a function of _parameters_ $\\theta$ and _inputs_ $x$\n",
    "that alternates between matrix multiplication and function application:\n",
    "\n",
    "$$\n",
    "f(\\theta; x) = \\theta_K \\sigma_K\\left(\\theta_{K-1} \\sigma_{K-1}\\left(\\dots \\sigma_{1}\\left( \\theta_{1} x\\right)\\dots\\right)\\right)\n",
    "$$\n",
    "\n",
    "where each $\\theta_i$ is a matrix and $x$ is a vector."
   ]
  },
  {
   "cell_type": "markdown",
   "metadata": {
    "slideshow": {
     "slide_type": "subslide"
    }
   },
   "source": [
    "**Definition**. An _autoencoder_ network $f$ is a network that compares its outputs to its inputs:\n",
    "\n",
    "$$\n",
    "l(\\theta; x) = D\\left(x, f(\\theta; x)\\right)\n",
    "$$\n",
    "\n",
    "where $D(x, x) = 0$. The function $l$ is the _loss function_."
   ]
  },
  {
   "cell_type": "markdown",
   "metadata": {
    "slideshow": {
     "slide_type": "subslide"
    }
   },
   "source": [
    "## The class of autoencoders includes multiplying by one as a special case:"
   ]
  },
  {
   "cell_type": "markdown",
   "metadata": {
    "slideshow": {
     "slide_type": "fragment"
    }
   },
   "source": [
    "Let's choose all of our functions $\\sigma_i$ to be the identity\n",
    "(`def f(x): return x`),"
   ]
  },
  {
   "cell_type": "markdown",
   "metadata": {
    "slideshow": {
     "slide_type": "-"
    }
   },
   "source": [
    "$$\n",
    "f\\left(\\theta; x\\right) = \\theta_K \\theta_{K-1} \\dots \\theta_1 \\theta_0 x\n",
    "$$"
   ]
  },
  {
   "cell_type": "markdown",
   "metadata": {
    "slideshow": {
     "slide_type": "fragment"
    }
   },
   "source": [
    "This is a _linear network_, and linear networks are often used as a test case for theory on neural networks,\n",
    "e.g. [Saxe, McClelland, and Ganguli, 2018](https://arxiv.org/abs/1810.10531).\n",
    "\n",
    "Also, networks with ReLU are _piecewise linear_ on their inputs."
   ]
  },
  {
   "cell_type": "markdown",
   "metadata": {
    "slideshow": {
     "slide_type": "subslide"
    }
   },
   "source": [
    "and let's also choose $x$ to be a vector of dimension 1,"
   ]
  },
  {
   "cell_type": "markdown",
   "metadata": {
    "slideshow": {
     "slide_type": "-"
    }
   },
   "source": [
    "$$\n",
    "f\\left(\\theta; x\\right) = \\theta_K \\cdot \\theta_{K-1} \\cdot \\dots \\theta_1 \\cdot \\theta_0 \\cdot x\n",
    "$$"
   ]
  },
  {
   "cell_type": "markdown",
   "metadata": {
    "slideshow": {
     "slide_type": "fragment"
    }
   },
   "source": [
    "In [JAX](https://github.com/google/jax)-style numpy,\n",
    "that function looks like:"
   ]
  },
  {
   "cell_type": "code",
   "execution_count": null,
   "metadata": {
    "slideshow": {
     "slide_type": "-"
    }
   },
   "outputs": [],
   "source": [
    "@partial(np.vectorize, signature=\"(h),(d)->(d)\")\n",
    "def f(theta, x):\n",
    "    return np.prod(theta, axis=0) * x"
   ]
  },
  {
   "cell_type": "markdown",
   "metadata": {
    "slideshow": {
     "slide_type": "skip"
    }
   },
   "source": [
    "The `@partial` decorator and `np.vectorize` application allow this single Python function\n",
    "to represent a clutch of semantically-related functions:\n",
    "applying `f` on multiple values of `x` with the same `theta` (batch application),\n",
    "applying `f` on multiple values of `theta` with the same `x` (model comparison/ensembling),\n",
    "or applying `f` on multiples values of `x` and `theta` (model ensembling on batches).\n",
    "\n",
    "And all of these implementations are fast!\n",
    "This kind of expressive power is why lots of folks doing research on DNNs are excited about JAX."
   ]
  },
  {
   "cell_type": "markdown",
   "metadata": {
    "slideshow": {
     "slide_type": "slide"
    }
   },
   "source": [
    "# In this simple setting, we can see everything."
   ]
  },
  {
   "cell_type": "markdown",
   "metadata": {
    "slideshow": {
     "slide_type": "-"
    }
   },
   "source": [
    "For visualization purposes, let's also choose $K$, the number of hidden layers, to be 1:"
   ]
  },
  {
   "cell_type": "markdown",
   "metadata": {
    "slideshow": {
     "slide_type": "-"
    }
   },
   "source": [
    "$$\n",
    "f\\left(\\theta; x\\right) = \\theta_1 \\cdot \\theta_0 \\cdot x\n",
    "$$"
   ]
  },
  {
   "cell_type": "markdown",
   "metadata": {
    "slideshow": {
     "slide_type": "slide"
    }
   },
   "source": [
    "## We can see the network's output as a function of the parameters."
   ]
  },
  {
   "cell_type": "markdown",
   "metadata": {
    "slideshow": {
     "slide_type": "skip"
    }
   },
   "source": [
    "This choice makes, say, the output on a specific input a scalar-valued function of two variables ($\\theta_1$ and $\\theta_0$),\n",
    "as below:"
   ]
  },
  {
   "cell_type": "code",
   "execution_count": null,
   "metadata": {
    "slideshow": {
     "slide_type": "fragment"
    }
   },
   "outputs": [],
   "source": [
    "ax = plot_surface(thetas, f(thetas, [1]), zlabel=r\"$f(\\theta)$\"); "
   ]
  },
  {
   "cell_type": "markdown",
   "metadata": {
    "slideshow": {
     "slide_type": "subslide"
    }
   },
   "source": [
    "If we choose $D(x, y) = (x - y)^2$, the _squared error_, then the loss function $L$ on batches $X$ becomes"
   ]
  },
  {
   "cell_type": "markdown",
   "metadata": {
    "slideshow": {
     "slide_type": "-"
    }
   },
   "source": [
    "$$\n",
    "L(\\theta; X) = \\frac{1}{n} \\sum_{x \\in X} \\left(x - f\\left(\\theta, x\\right)\\right)^2\n",
    "$$"
   ]
  },
  {
   "cell_type": "markdown",
   "metadata": {
    "slideshow": {
     "slide_type": "fragment"
    }
   },
   "source": [
    "or, in code:"
   ]
  },
  {
   "cell_type": "code",
   "execution_count": null,
   "metadata": {
    "slideshow": {
     "slide_type": "-"
    }
   },
   "outputs": [],
   "source": [
    "def squared_error(theta, x):\n",
    "    return np.square(np.array(x) - f(theta, x))\n",
    "\n",
    "\n",
    "def L(theta, x):\n",
    "    return np.mean(squared_error(theta, x), axis=-1)"
   ]
  },
  {
   "cell_type": "markdown",
   "metadata": {
    "slideshow": {
     "slide_type": "subslide"
    }
   },
   "source": [
    "##  This loss is simple enough we can write it out explicitly"
   ]
  },
  {
   "cell_type": "markdown",
   "metadata": {
    "slideshow": {
     "slide_type": "skip"
    }
   },
   "source": [
    "In particular,\n",
    "we focus on a single datapoint and choose it to be $1$, for simplicity."
   ]
  },
  {
   "cell_type": "markdown",
   "metadata": {
    "slideshow": {
     "slide_type": "fragment"
    }
   },
   "source": [
    "## \n",
    "\n",
    "$$\n",
    "L(\\theta; 1) = \\left(1 - f\\left(\\theta; 1\\right)\\right)^2\n",
    "$$"
   ]
  },
  {
   "cell_type": "markdown",
   "metadata": {
    "slideshow": {
     "slide_type": "fragment"
    }
   },
   "source": [
    "$$\n",
    "= (1 - \\theta_1 \\theta_0)^2\\\\\n",
    "$$"
   ]
  },
  {
   "cell_type": "markdown",
   "metadata": {
    "slideshow": {
     "slide_type": "fragment"
    }
   },
   "source": [
    "$$\n",
    "= 1 + \\theta_1^2\\theta_0^2 - 2\\theta_1\\theta_0\n",
    "$$"
   ]
  },
  {
   "cell_type": "markdown",
   "metadata": {
    "slideshow": {
     "slide_type": "skip"
    }
   },
   "source": [
    "Moving forward, we'll take the data, $x$, to be fixed and equal to $1$\n",
    "and vary the parameters only."
   ]
  },
  {
   "cell_type": "markdown",
   "metadata": {
    "slideshow": {
     "slide_type": "subslide"
    }
   },
   "source": [
    "## and we can view the network's loss as a function of the parameters."
   ]
  },
  {
   "cell_type": "code",
   "execution_count": null,
   "metadata": {
    "slideshow": {
     "slide_type": "fragment"
    }
   },
   "outputs": [],
   "source": [
    "Ls = L(thetas, [1])\n",
    "plot_surface(thetas, Ls, zlabel=r\"$L(\\theta)$\");"
   ]
  },
  {
   "cell_type": "markdown",
   "metadata": {
    "slideshow": {
     "slide_type": "slide"
    }
   },
   "source": [
    "## We can similarly calculate the gradient by hand"
   ]
  },
  {
   "cell_type": "markdown",
   "metadata": {
    "slideshow": {
     "slide_type": "-"
    }
   },
   "source": [
    "$$\n",
    "\\nabla L(\\theta) = -2 \\cdot \n",
    "    \\left[\n",
    "        \\begin{array}{c}\n",
    "            \\theta_2(1 - \\theta_2\\theta_1)\\\\\n",
    "            \\theta_1(1 - \\theta_1\\theta_2)\n",
    "         \\end{array}\n",
    "    \\right]\n",
    "$$"
   ]
  },
  {
   "cell_type": "markdown",
   "metadata": {
    "slideshow": {
     "slide_type": "skip"
    }
   },
   "source": [
    "This gradient is big when $\\theta_2\\theta_1$ is far from $1$ (try $5\\cdot2 = 10$ and $-1\\cdot10=-10$)."
   ]
  },
  {
   "cell_type": "markdown",
   "metadata": {
    "slideshow": {
     "slide_type": "fragment"
    }
   },
   "source": [
    "In Python, we rely on automatic differentiation:"
   ]
  },
  {
   "cell_type": "code",
   "execution_count": null,
   "metadata": {
    "slideshow": {
     "slide_type": "-"
    }
   },
   "outputs": [],
   "source": [
    "grad_L = np.vectorize(grad(L), signature=\"(h),(d)->(h)\")"
   ]
  },
  {
   "cell_type": "markdown",
   "metadata": {
    "slideshow": {
     "slide_type": "skip"
    }
   },
   "source": [
    "And that's exactly why a test case can be so useful!\n",
    "\n",
    "Calling `grad` (or its equivalent in your favorite ML toolkit)\n",
    "typically sets off a tidal wave of numerical operations.\n",
    "The only way to build an intuition for what might happen\n",
    "is to build an understanding of what happens in a simpler case."
   ]
  },
  {
   "cell_type": "markdown",
   "metadata": {
    "slideshow": {
     "slide_type": "subslide"
    }
   },
   "source": [
    "## and view the gradient as a vector field."
   ]
  },
  {
   "cell_type": "code",
   "execution_count": null,
   "metadata": {
    "slideshow": {
     "slide_type": "fragment"
    }
   },
   "outputs": [],
   "source": [
    "gradfield_L, precise_Ls = grad_L(precise_thetas, [1]), squared_error(precise_thetas, [1])\n",
    "\n",
    "ax = plot_surface(thetas, Ls, zlabel=r\"$L(\\theta)$\")\n",
    "plot_gradient_field(precise_thetas, precise_Ls, gradfield_L, ax=ax, length=0.01);"
   ]
  },
  {
   "cell_type": "markdown",
   "metadata": {
    "slideshow": {
     "slide_type": "slide"
    }
   },
   "source": [
    "## Gradient descent is used to optimize neural networks."
   ]
  },
  {
   "cell_type": "markdown",
   "metadata": {
    "slideshow": {
     "slide_type": "fragment"
    }
   },
   "source": [
    "Gradient descent is based on the update rule"
   ]
  },
  {
   "cell_type": "markdown",
   "metadata": {
    "slideshow": {
     "slide_type": "-"
    }
   },
   "source": [
    "$$\n",
    "\\theta \\leftarrow \\theta - \\eta \\nabla L(\\theta) \n",
    "$$"
   ]
  },
  {
   "cell_type": "markdown",
   "metadata": {
    "slideshow": {
     "slide_type": "skip"
    }
   },
   "source": [
    "There are other algorithms, based on other update rules,\n",
    "that are used to learn neural network parameters.\n",
    "A fun extension of this code would apply Nesterov momentum or\n",
    "an approximate second-order method like ADAM;\n",
    "see [optimizers in FLAX](https://flax.readthedocs.io/en/latest/flax.optim.html#optimizers),\n",
    "the neural network library for JAX."
   ]
  },
  {
   "cell_type": "markdown",
   "metadata": {
    "slideshow": {
     "slide_type": "fragment"
    }
   },
   "source": [
    "or, in code:"
   ]
  },
  {
   "cell_type": "code",
   "execution_count": null,
   "metadata": {
    "slideshow": {
     "slide_type": "-"
    }
   },
   "outputs": [],
   "source": [
    "def gradient_descent(theta, grad_L, eta=0.1):\n",
    "    return theta -eta * grad_L(theta, np.array([1.]))\n",
    "\n",
    "batched_gradient_descent = np.vectorize(gradient_descent, excluded=(1, 2), signature=\"(h)->(h)\")"
   ]
  },
  {
   "cell_type": "markdown",
   "metadata": {
    "slideshow": {
     "slide_type": "skip"
    }
   },
   "source": [
    "**More fun with JAX 😊**\n",
    "\n",
    "That last line there is setting it up so that we can train multiple networks _at the same time_! Nice."
   ]
  },
  {
   "cell_type": "code",
   "execution_count": null,
   "metadata": {
    "slideshow": {
     "slide_type": "subslide"
    }
   },
   "outputs": [],
   "source": [
    "def run_batched_gd(num_steps, init_thetas, L, eta):\n",
    "\n",
    "    simultaneous_gds = np.zeros([num_steps - 1] + list(init_thetas.shape))\n",
    "    simultaneous_gds = np.concatenate([init_thetas[None, :], simultaneous_gds], axis=0)\n",
    "    \n",
    "    for ii in range(num_steps):\n",
    "        simultaneous_gds = jax.ops.index_update(\n",
    "            simultaneous_gds, jax.ops.index[ii + 1, :],\n",
    "            batched_gradient_descent(simultaneous_gds[ii, :], L, eta))\n",
    "        \n",
    "    return simultaneous_gds"
   ]
  },
  {
   "cell_type": "markdown",
   "metadata": {
    "slideshow": {
     "slide_type": "skip"
    }
   },
   "source": [
    "**Less fun with JAX 😭**\n",
    "\n",
    "JAX has [🔪 sharp edges 🔪](https://jax.readthedocs.io/en/latest/notebooks/Common_Gotchas_in_JAX.html):\n",
    "it is functionally pure, so arrays are immutable.\n",
    "That means we can't, e.g., assign values to entries directly.\n",
    "Instead, we have to use a workaround.\n",
    "\n",
    "There may be a smarter way to do this; I just wanted to show this pain point."
   ]
  },
  {
   "cell_type": "code",
   "execution_count": null,
   "metadata": {
    "slideshow": {
     "slide_type": "fragment"
    }
   },
   "outputs": [],
   "source": [
    "simultaneous_gds = run_batched_gd(100, thetas, grad_L, 0.001)\n",
    "gd_3d_trajs = prep_for_plot(simultaneous_gds, L)"
   ]
  },
  {
   "cell_type": "markdown",
   "metadata": {
    "slideshow": {
     "slide_type": "subslide"
    }
   },
   "source": [
    "## We can observe how gradient descent behaves directly, from many initial positions."
   ]
  },
  {
   "cell_type": "code",
   "execution_count": null,
   "metadata": {
    "slideshow": {
     "slide_type": "fragment"
    }
   },
   "outputs": [],
   "source": [
    "ax = plot_batched_gd(gd_3d_trajs, thetas, Ls,\n",
    "                     lw=2., antialiaseds=True, colors=\"k\")"
   ]
  },
  {
   "cell_type": "markdown",
   "metadata": {
    "slideshow": {
     "slide_type": "subslide"
    }
   },
   "source": [
    "## Some positions clearly perform worse than others."
   ]
  },
  {
   "cell_type": "code",
   "execution_count": null,
   "metadata": {
    "slideshow": {
     "slide_type": "fragment"
    }
   },
   "outputs": [],
   "source": [
    "fig, ax = plt.subplots()\n",
    "\n",
    "ax.plot(gd_3d_trajs[::25, :, -1].T, color=\"k\");\n",
    "ax.set_ylabel(r\"$L(\\theta)$\"); ax.set_xlabel(\"Iteration\");"
   ]
  },
  {
   "cell_type": "markdown",
   "metadata": {
    "slideshow": {
     "slide_type": "slide"
    }
   },
   "source": [
    "## Typical neural networks are initialized from random, normalized starting positions."
   ]
  },
  {
   "cell_type": "code",
   "execution_count": null,
   "metadata": {
    "slideshow": {
     "slide_type": "fragment"
    }
   },
   "outputs": [],
   "source": [
    "key, subkey =  jax.random.split(jax.random.PRNGKey(117))\n",
    "\n",
    "n_inits = 50\n",
    "init_thetas = jax.random.normal(subkey, shape=(n_inits, 2))\n",
    "init_thetas = init_thetas / np.linalg.norm(init_thetas, axis=1)[:, None]"
   ]
  },
  {
   "cell_type": "markdown",
   "metadata": {
    "slideshow": {
     "slide_type": "skip"
    }
   },
   "source": [
    "**JAX and PRNG 🎲**\n",
    "\n",
    "Randomness is also a bit tricky in JAX.\n",
    "A random function is not pure --\n",
    "it uses some source of entropy\n",
    "to produce different outputs for the same inputs.\n",
    "\n",
    "We have to be more explicit about when we're using entropy -- but this is a good thing!\n",
    "It makes it much easier to make JAX code deterministic and therefore reproducible."
   ]
  },
  {
   "cell_type": "code",
   "execution_count": null,
   "metadata": {
    "slideshow": {
     "slide_type": "fragment"
    }
   },
   "outputs": [],
   "source": [
    "random_init_gds = run_batched_gd(50, init_thetas, grad_L, 0.1)\n",
    "random_init_3d_trajs = prep_for_plot(random_init_gds, L)"
   ]
  },
  {
   "cell_type": "code",
   "execution_count": null,
   "metadata": {
    "slideshow": {
     "slide_type": "subslide"
    }
   },
   "outputs": [],
   "source": [
    "ax = plot_batched_gd(random_init_3d_trajs, thetas, Ls,\n",
    "                     lw=2., colors=\"k\", antialiaseds=False)"
   ]
  },
  {
   "cell_type": "markdown",
   "metadata": {
    "slideshow": {
     "slide_type": "subslide"
    }
   },
   "source": [
    "## From these positions, training looks much better!"
   ]
  },
  {
   "cell_type": "code",
   "execution_count": null,
   "metadata": {},
   "outputs": [],
   "source": [
    "fig, ax = plt.subplots()\n",
    "\n",
    "ax.plot(random_init_3d_trajs[::3, :, -1].T, color=\"k\");\n",
    "ax.set_ylabel(r\"$L(\\theta)$\"); ax.set_xlabel(\"Iteration\");"
   ]
  },
  {
   "cell_type": "markdown",
   "metadata": {
    "slideshow": {
     "slide_type": "skip"
    }
   },
   "source": [
    "And it looks more like what we see in the training of larger networks on more interesting problems:\n",
    "some of the trajectories \"plateau\" before speeding up.\n",
    "\n",
    "This is a problem for which a cyclical learning rate might be helpful:\n",
    "a higher learning rate during the iterations in which gradient descent is stuck on the plateau\n",
    "would allow it to escape more quickly."
   ]
  },
  {
   "cell_type": "markdown",
   "metadata": {
    "slideshow": {
     "slide_type": "slide"
    }
   },
   "source": [
    "## Due to the simplicity of the loss, we can calculate all possible solutions.\n",
    "\n"
   ]
  },
  {
   "cell_type": "markdown",
   "metadata": {
    "slideshow": {
     "slide_type": "-"
    }
   },
   "source": [
    "$$\n",
    "\\nabla L(\\theta^\\star)_1 = 0 = -2 \\cdot \n",
    "            \\theta^\\star_2(1 - \\theta^\\star_2\\theta^\\star_1)\n",
    "$$"
   ]
  },
  {
   "cell_type": "markdown",
   "metadata": {
    "slideshow": {
     "slide_type": "fragment"
    }
   },
   "source": [
    "$$\n",
    "0 = \\theta^\\star_2(1 - \\theta^\\star_2\\theta^\\star_1)\n",
    "$$"
   ]
  },
  {
   "cell_type": "markdown",
   "metadata": {
    "slideshow": {
     "slide_type": "fragment"
    }
   },
   "source": [
    "$$\n",
    "\\theta_1^\\star \\theta_2^\\star = 1\n",
    "$$"
   ]
  },
  {
   "cell_type": "markdown",
   "metadata": {
    "slideshow": {
     "slide_type": "fragment"
    }
   },
   "source": [
    "or, in code:"
   ]
  },
  {
   "cell_type": "code",
   "execution_count": null,
   "metadata": {
    "slideshow": {
     "slide_type": "-"
    }
   },
   "outputs": [],
   "source": [
    "def add_solutions_to_axis(ax):\n",
    "    xmin, xmax = ax.get_xlim()\n",
    "    \n",
    "    pos_component = np.array([(x, 1. / x) for x in np.linspace(1. / xmax, xmax)])\n",
    "    neg_component = -1 * pos_component\n",
    "    ax.scatter(*pos_component.T, color=\"xkcd:chartreuse\")\n",
    "    ax.scatter(*neg_component.T, color=\"xkcd:chartreuse\")\n",
    "    \n",
    "    return"
   ]
  },
  {
   "cell_type": "markdown",
   "metadata": {
    "slideshow": {
     "slide_type": "subslide"
    }
   },
   "source": [
    "## And we can then visualize that solution set."
   ]
  },
  {
   "cell_type": "code",
   "execution_count": null,
   "metadata": {
    "slideshow": {
     "slide_type": "fragment"
    }
   },
   "outputs": [],
   "source": [
    "ax = plot_batched_gd(random_init_3d_trajs, thetas, Ls,\n",
    "                     lw=2., colors=\"k\", antialiaseds=False)\n",
    "add_solutions_to_axis(ax);"
   ]
  },
  {
   "cell_type": "markdown",
   "metadata": {
    "slideshow": {
     "slide_type": "skip"
    }
   },
   "source": [
    "These two sets of solutions represent two distinct ways of solving the problem:\n",
    "by flipping the sign of the input and flipping it back, or by not doing so.\n",
    "\n",
    "Notice that only one of these is close to a typical human solution to this problem!\n",
    "\n",
    "These two solutions are separated by a barrier -- it's not that high,\n",
    "but it's high enough to block gradient descent, even with noise.\n",
    "\n",
    "From any one solution, another solution can be obtained easily:\n",
    "just multiply one parameter by $a$ and the other by $1/a$."
   ]
  },
  {
   "cell_type": "markdown",
   "metadata": {
    "slideshow": {
     "slide_type": "subslide"
    }
   },
   "source": [
    "## This picture of the solution sets for neural networks generalizes to more realistic settings."
   ]
  },
  {
   "cell_type": "markdown",
   "metadata": {
    "slideshow": {
     "slide_type": "fragment"
    }
   },
   "source": [
    "- For ReLU networks, as demonstrated in [Freeman and Bruna, 2016](https://arxiv.org/abs/1611.01540),\n",
    "the solutions have the same algebraic structure (in the infinitely-overparameterized regime)."
   ]
  },
  {
   "cell_type": "markdown",
   "metadata": {
    "slideshow": {
     "slide_type": "fragment"
    }
   },
   "source": [
    "- Solutions in different basins can have very different representations and performance, even though they are separated by only a small barrier (see [Garipov et al., 2018](https://arxiv.org/abs/1802.10026))"
   ]
  },
  {
   "cell_type": "markdown",
   "metadata": {
    "slideshow": {
     "slide_type": "fragment"
    }
   },
   "source": [
    "- I used a higher-dimensional version of the same problem to improve techniques for finding zero-gradient points of neural networks in [Frye et al., 2019](https://arxiv.org/abs/1901.10603)."
   ]
  },
  {
   "cell_type": "markdown",
   "metadata": {
    "slideshow": {
     "slide_type": "slide"
    }
   },
   "source": [
    "# In general, use simple problems like this one to build your understanding."
   ]
  },
  {
   "cell_type": "markdown",
   "metadata": {
    "slideshow": {
     "slide_type": "fragment"
    }
   },
   "source": [
    "Useful ideas and technologies are usually compositions of simpler pieces,\n",
    "and those simpler pieces tend to admit base cases\n",
    "that are particularly intuitive or easy to understand."
   ]
  },
  {
   "cell_type": "markdown",
   "metadata": {
    "slideshow": {
     "slide_type": "fragment"
    }
   },
   "source": [
    "When you combine that with pathological counterexamples,\n",
    "you've got a one-two punch for tackling difficult concepts!"
   ]
  }
 ],
 "metadata": {
  "celltoolbar": "Slideshow",
  "kernelspec": {
   "display_name": "Python 3",
   "language": "python",
   "name": "python3"
  },
  "language_info": {
   "codemirror_mode": {
    "name": "ipython",
    "version": 3
   },
   "file_extension": ".py",
   "mimetype": "text/x-python",
   "name": "python",
   "nbconvert_exporter": "python",
   "pygments_lexer": "ipython3",
   "version": "3.7.3"
  }
 },
 "nbformat": 4,
 "nbformat_minor": 4
}
